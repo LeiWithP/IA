{
 "cells": [
  {
   "cell_type": "code",
   "execution_count": 30,
   "metadata": {},
   "outputs": [
    {
     "name": "stdout",
     "output_type": "stream",
     "text": [
      "1/1 [==============================] - 0s 78ms/step\n",
      "Predicted class: tulipan\n"
     ]
    }
   ],
   "source": [
    "import tensorflow as tf\n",
    "from tensorflow.keras.preprocessing import image\n",
    "import numpy as np\n",
    "\n",
    "model_path = './CNNModels//floresV5.h5py'\n",
    "model = tf.keras.models.load_model(model_path)\n",
    "\n",
    "target_size = (32, 32)\n",
    "flower = \"./flores/lava5.jpg\"\n",
    "\n",
    "# Load the image and resize it to match the model's input size\n",
    "img = image.load_img(flower, target_size=target_size)\n",
    "img_array = image.img_to_array(img)\n",
    "img_array = np.expand_dims(img_array, axis=0)\n",
    "\n",
    "# Make prediction\n",
    "predictions = model.predict(img_array)\n",
    "\n",
    "# Map the predicted indices to class labels\n",
    "# class_labels = [\"ave\", \"cempasuchil\", \"passion\", \"rosa\", \"tulipan\"] # V1 RIP\n",
    "# class_labels = [\"ave\", \"cempasuchil\", \"passion\", \"rosa\", \"tulipan\"] # V2 RIP\n",
    "# class_labels = [\"ave\", \"cempasuchil\", \"passion\", \"sun\", \"tulipan\"] # V3\n",
    "\n",
    "# class_labels = [\"antuario\", \"ave\", \"cempasuchil\", \"passion\", \"tulipan\"] # V4\n",
    "class_labels = [\"ave\", \"cempasuchil\", \"lavanda\", \"passion\", \"tulipan\"] # V5\n",
    "\n",
    "predicted_class_indices = np.argmax(predictions, axis=1)\n",
    "predicted_labels = [class_labels[i] for i in predicted_class_indices]\n",
    "\n",
    "# Print the predicted class labels\n",
    "print(\"Predicted class:\", predicted_labels[0])"
   ]
  },
  {
   "cell_type": "code",
   "execution_count": null,
   "metadata": {},
   "outputs": [],
   "source": []
  }
 ],
 "metadata": {
  "kernelspec": {
   "display_name": "Python 3 (ipykernel)",
   "language": "python",
   "name": "python3"
  },
  "language_info": {
   "codemirror_mode": {
    "name": "ipython",
    "version": 3
   },
   "file_extension": ".py",
   "mimetype": "text/x-python",
   "name": "python",
   "nbconvert_exporter": "python",
   "pygments_lexer": "ipython3",
   "version": "3.9.13"
  }
 },
 "nbformat": 4,
 "nbformat_minor": 4
}
