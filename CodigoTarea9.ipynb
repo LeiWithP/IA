{
 "cells": [
  {
   "cell_type": "markdown",
   "id": "adeb9a6a",
   "metadata": {},
   "source": [
    "## Estandarizar Tamaño"
   ]
  },
  {
   "cell_type": "code",
   "execution_count": 31,
   "metadata": {},
   "outputs": [],
   "source": [
    "# start_folder = '.\\\\flores\\\\anturiums'\n",
    "# start_folder = '.\\\\flores\\\\cempazuchitls'\n",
    "# start_folder = '.\\\\flores\\\\paradisebirds'\n",
    "# start_folder = '.\\\\flores\\\\roses'\n",
    "# start_folder = '.\\\\flores\\\\tulips'\n",
    "start_folder = '.\\\\flores\\\\passion'\n",
    "\n",
    "# end_folder = '.\\datasets\\\\anturios'\n",
    "# end_folder = '.\\datasets\\\\cempsuchs'\n",
    "# end_folder = '.\\datasets\\\\aves'\n",
    "# end_folder = '.\\datasets\\\\rosas'\n",
    "# end_folder = '.\\datasets\\\\tulips'\n",
    "end_folder = '.\\datasets\\\\pass'\n",
    "\n",
    "# etiqueta = 'anturio'\n",
    "# etiqueta = 'cempa'\n",
    "# etiqueta = 'ave'\n",
    "# etiqueta = 'rosa'\n",
    "# etiqueta = 'tuli'\n",
    "etiqueta = 'pass'\n",
    "image_standart_size = 32"
   ]
  },
  {
   "cell_type": "code",
   "execution_count": 32,
   "id": "039b800b",
   "metadata": {},
   "outputs": [
    {
     "name": "stdout",
     "output_type": "stream",
     "text": [
      "Images saved to '.\\datasets\\pass'\n"
     ]
    }
   ],
   "source": [
    "from PIL import Image\n",
    "import os\n",
    "\n",
    "input_dir = start_folder\n",
    "output_dir = end_folder\n",
    "\n",
    "os.makedirs(output_dir, exist_ok=True)\n",
    "target_size = (image_standart_size, image_standart_size)\n",
    "\n",
    "input_files = os.listdir(input_dir)\n",
    "\n",
    "for input_file in input_files:\n",
    "    input_path = os.path.join(input_dir, input_file)\n",
    "    output_path = os.path.join(output_dir, input_file)\n",
    "    \n",
    "    img = Image.open(input_path)\n",
    "    \n",
    "    width, height = img.size\n",
    "    size = min(width, height)\n",
    "    \n",
    "    # Calculate the coordinates for the square crop\n",
    "    left = (width - size) / 2\n",
    "    upper = (height - size) / 2\n",
    "    right = (width + size) / 2\n",
    "    lower = (height + size) / 2\n",
    "    \n",
    "    square_img = img.crop((left, upper, right, lower))\n",
    "    \n",
    "    # Resize the image to the target size while maintaining aspect ratio\n",
    "    square_img.thumbnail(target_size)\n",
    "    \n",
    "    # Create a new square image with a white background\n",
    "    small_img = Image.new('RGB', target_size, (255, 255, 255))\n",
    "    \n",
    "    # Paste the resized image onto the square canvas\n",
    "    offset = ((target_size[0] - square_img.width) // 2, (target_size[1] - square_img.height) // 2)\n",
    "    small_img.paste(square_img, offset)\n",
    "    \n",
    "    small_img.save(output_path)\n",
    "\n",
    "print(f\"Images saved to '{output_dir}'\")\n"
   ]
  },
  {
   "cell_type": "markdown",
   "id": "5ad2e725",
   "metadata": {},
   "source": [
    "## Aplicar Filtros"
   ]
  },
  {
   "cell_type": "markdown",
   "id": "b1a88a00",
   "metadata": {},
   "source": [
    "from PIL import Image\n",
    "import os\n",
    "import cv2\n",
    "\n",
    "input_dir = end_folder\n",
    "output_dir = end_folder\n",
    "\n",
    "os.makedirs(output_dir, exist_ok=True)\n",
    "\n",
    "input_files = os.listdir(input_dir)\n",
    "\n",
    "for input_file in input_files:\n",
    "    input_path = os.path.join(input_dir, input_file)\n",
    "    output_path_original = os.path.join(output_dir, input_file)\n",
    "    output_path_hsv = os.path.join(output_dir, f\"hsv_{input_file}\")\n",
    "\n",
    "    try:\n",
    "        img = Image.open(input_path)\n",
    "    except Exception as e:\n",
    "        print(f\"Error processing {input_file}: {str(e)}\")\n",
    "        continue\n",
    "\n",
    "    filename, _ = os.path.splitext(input_file)\n",
    "\n",
    "    # Save the original photo\n",
    "    img.save(output_path_original)\n",
    "\n",
    "    # Convert to HSV and save the HSV version\n",
    "    img_array = cv2.imread(output_path_original)\n",
    "    hsv_img = cv2.cvtColor(img_array, cv2.COLOR_BGR2HSV)\n",
    "    hsv_img_pil = Image.fromarray(hsv_img)\n",
    "    hsv_img_pil.save(output_path_hsv)\n",
    "\n",
    "print(f\"Images saved in '{output_dir}' with original and HSV versions.\")\n"
   ]
  },
  {
   "cell_type": "markdown",
   "id": "bd20d62a",
   "metadata": {},
   "source": [
    "## Rotar Imagenes"
   ]
  },
  {
   "cell_type": "code",
   "execution_count": 33,
   "id": "8ab08db8",
   "metadata": {},
   "outputs": [
    {
     "name": "stdout",
     "output_type": "stream",
     "text": [
      "Images saved in '.\\datasets\\pass' with rotations at 15-degree intervals.\n"
     ]
    }
   ],
   "source": [
    "from PIL import Image\n",
    "import os\n",
    "\n",
    "input_dir = end_folder\n",
    "end_folder = end_folder\n",
    "\n",
    "os.makedirs(end_folder, exist_ok=True)\n",
    "\n",
    "input_files = os.listdir(input_dir)\n",
    "\n",
    "for input_file in input_files:\n",
    "    input_path = os.path.join(input_dir, input_file)\n",
    "\n",
    "    img = Image.open(input_path)\n",
    "\n",
    "    for i in range(0, 360, 15):\n",
    "        rotated_img = img.rotate(i, expand=True)\n",
    "\n",
    "        # if i in (45, 135, 225, 315):\n",
    "        if i not in (0, 90, 180, 270):\n",
    "            width, height = rotated_img.size\n",
    "\n",
    "            # Calculate the size of the center section (half size) with the same aspect ratio\n",
    "            if width > height:\n",
    "                new_width = height // 2\n",
    "                new_height = height // 2\n",
    "            else:\n",
    "                new_width = width // 2\n",
    "                new_height = width // 2\n",
    "\n",
    "            # Calculate the coordinates for the center section\n",
    "            left = (width - new_width) // 2\n",
    "            upper = (height - new_height) // 2\n",
    "            right = left + new_width\n",
    "            lower = upper + new_height\n",
    "\n",
    "            # Crop the center section\n",
    "            rotated_img = rotated_img.crop((left, upper, right, lower))\n",
    "\n",
    "            # Resize the image\n",
    "            rotated_img = rotated_img.resize((image_standart_size, image_standart_size))\n",
    "\n",
    "        output_filename = f\"rotated_{i}_degrees_{input_file}\"\n",
    "        output_path = os.path.join(end_folder, output_filename)\n",
    "        rotated_img.save(output_path)\n",
    "\n",
    "print(f\"Images saved in '{end_folder}' with rotations at 15-degree intervals.\")\n"
   ]
  },
  {
   "cell_type": "markdown",
   "id": "a2b09217",
   "metadata": {},
   "source": [
    "## Renombrar"
   ]
  },
  {
   "cell_type": "code",
   "execution_count": 34,
   "id": "2cad5f24",
   "metadata": {},
   "outputs": [
    {
     "name": "stdout",
     "output_type": "stream",
     "text": [
      "Images renamed to 'pass1', 'pass2', ... 'pass1000'.\n"
     ]
    }
   ],
   "source": [
    "import os\n",
    "\n",
    "input_dir = end_folder\n",
    "output_name = etiqueta\n",
    "\n",
    "input_files = os.listdir(input_dir)\n",
    "\n",
    "input_files.sort()\n",
    "\n",
    "counter = 1\n",
    "\n",
    "for input_file in input_files:\n",
    "    if input_file.lower().endswith(('.png', '.jpg', '.jpeg', '.gif')):\n",
    "        file_extension = os.path.splitext(input_file)[1]\n",
    "        new_name = f\"{output_name}{counter}{file_extension}\"\n",
    "        \n",
    "        os.rename(os.path.join(input_dir, input_file), os.path.join(input_dir, new_name))\n",
    "        \n",
    "        counter += 1\n",
    "\n",
    "print(f\"Images renamed to '{output_name}1', '{output_name}2', ... '{output_name}{counter - 1}'.\")\n"
   ]
  },
  {
   "cell_type": "code",
   "execution_count": 35,
   "id": "f6102bec",
   "metadata": {},
   "outputs": [],
   "source": [
    "# import os\n",
    "# import imghdr\n",
    "\n",
    "# def check_file_types(folder_path):\n",
    "#     file_types = set()\n",
    "\n",
    "#     for file_name in os.listdir(folder_path):\n",
    "#         file_path = os.path.join(folder_path, file_name)\n",
    "\n",
    "#         if os.path.isfile(file_path):\n",
    "#             file_type = imghdr.what(file_path)\n",
    "\n",
    "#             if file_type:\n",
    "#                 file_types.add(file_type)\n",
    "\n",
    "#     return file_types\n",
    "\n",
    "# # Replace 'your_folder_path' with the actual path of your folder\n",
    "# folder_path = '.\\\\flores\\Rosas'\n",
    "# result = check_file_types(folder_path)\n",
    "\n",
    "# print(f\"File types found in '{folder_path}': {result}\")\n"
   ]
  }
 ],
 "metadata": {
  "kernelspec": {
   "display_name": "Python 3 (ipykernel)",
   "language": "python",
   "name": "python3"
  },
  "language_info": {
   "codemirror_mode": {
    "name": "ipython",
    "version": 3
   },
   "file_extension": ".py",
   "mimetype": "text/x-python",
   "name": "python",
   "nbconvert_exporter": "python",
   "pygments_lexer": "ipython3",
   "version": "3.11.4"
  }
 },
 "nbformat": 4,
 "nbformat_minor": 5
}
