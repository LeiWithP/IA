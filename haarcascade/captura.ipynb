{
 "cells": [
  {
   "cell_type": "markdown",
   "metadata": {},
   "source": [
    "### Librerias"
   ]
  },
  {
   "cell_type": "code",
   "execution_count": 22,
   "metadata": {},
   "outputs": [],
   "source": [
    "import cv2\n",
    "import os"
   ]
  },
  {
   "cell_type": "markdown",
   "metadata": {},
   "source": [
    "### Funcion Guardar Fotos de un Video"
   ]
  },
  {
   "cell_type": "code",
   "execution_count": 23,
   "metadata": {},
   "outputs": [],
   "source": [
    "def save_frames_from_video(video_path, output_folder, frame_size=(100, 100), frame_interval=10):\n",
    "    os.makedirs(output_folder, exist_ok=True)\n",
    "\n",
    "    cap = cv2.VideoCapture(video_path)\n",
    "    frame_count = 0\n",
    "\n",
    "    while True:\n",
    "        ret, frame = cap.read()\n",
    "\n",
    "        if not ret:\n",
    "            break\n",
    "\n",
    "        resized_frame = cv2.resize(frame, frame_size)\n",
    "\n",
    "        frame_filename = f\"frame_{frame_count:04d}.jpg\"\n",
    "        frame_path = os.path.join(output_folder, frame_filename)\n",
    "        cv2.imwrite(frame_path, resized_frame)\n",
    "\n",
    "        frame_count += 1\n",
    "\n",
    "        # Intervalo\n",
    "        for _ in range(frame_interval):\n",
    "            ret, _ = cap.read()\n",
    "            if not ret:\n",
    "                break\n",
    "\n",
    "    print(f\"{output_folder} fotos guardadas en {output_folder}\")\n",
    "    cap.release()\n"
   ]
  },
  {
   "cell_type": "markdown",
   "metadata": {},
   "source": [
    "### Funcion Para Aplicar el Haarcascade"
   ]
  },
  {
   "cell_type": "code",
   "execution_count": 24,
   "metadata": {},
   "outputs": [],
   "source": [
    "def buscando_a_nemo(video_path, cascade_path, scale_factor=1.1, min_neighbors=5):\n",
    "    clasificador = cv2.CascadeClassifier(cascade_path)\n",
    "\n",
    "    cap = cv2.VideoCapture(video_path)\n",
    "\n",
    "    while True:\n",
    "        ret, frame = cap.read()\n",
    "\n",
    "        if not ret:\n",
    "            break\n",
    "\n",
    "        gray = cv2.cvtColor(frame, cv2.COLOR_BGR2GRAY)\n",
    "\n",
    "        # Detect objects in the frame\n",
    "        objects = clasificador.detectMultiScale(gray, scaleFactor=scale_factor, minNeighbors=min_neighbors)\n",
    "\n",
    "        # Draw rectangles around the detected objects\n",
    "        for (x, y, w, h) in objects:\n",
    "            cv2.rectangle(frame, (x, y), (x+w, y+h), (0, 255, 0), 2)\n",
    "\n",
    "        cv2.imshow('Deteccion', frame)\n",
    "\n",
    "        if cv2.waitKey(1) & 0xFF == ord('q'):\n",
    "            break\n",
    "\n",
    "    cap.release()\n",
    "    cv2.destroyAllWindows()"
   ]
  },
  {
   "cell_type": "markdown",
   "metadata": {},
   "source": [
    "### Obtener Imagenes Negativas"
   ]
  },
  {
   "cell_type": "code",
   "execution_count": 31,
   "metadata": {},
   "outputs": [
    {
     "name": "stdout",
     "output_type": "stream",
     "text": [
      "Folder './n' creado\n",
      "Fotos guardadas en './n'\n"
     ]
    }
   ],
   "source": [
    "nfolder = './n'\n",
    "nvideo = './negative.mp4'\n",
    "\n",
    "if not os.path.exists(nfolder):\n",
    "    os.makedirs(nfolder)\n",
    "    print(f\"Folder '{nfolder}' creado\")\n",
    "\n",
    "save_frames_from_video(nvideo, nfolder, frame_size=(100, 100), frame_interval=10)"
   ]
  },
  {
   "cell_type": "markdown",
   "metadata": {},
   "source": [
    "### Obtener Imagenes Positivas"
   ]
  },
  {
   "cell_type": "code",
   "execution_count": null,
   "metadata": {},
   "outputs": [],
   "source": [
    "pfolder = './p'\n",
    "pvideo = './positive.mp4'\n",
    "\n",
    "if not os.path.exists(pfolder):\n",
    "    os.makedirs(pfolder)\n",
    "    print(f\"Folder '{pfolder}' creado\")\n",
    "\n",
    "save_frames_from_video(pvideo, pfolder, frame_size=(100, 100), frame_interval=10)"
   ]
  },
  {
   "cell_type": "markdown",
   "metadata": {},
   "source": [
    "### Utilizar cascade.xml Generado"
   ]
  },
  {
   "cell_type": "code",
   "execution_count": 21,
   "metadata": {},
   "outputs": [],
   "source": [
    "search_video = 'test.mp4'\n",
    "cascade_path = './classifier/cascade.xml'\n",
    "\n",
    "buscando_a_nemo(search_video, cascade_path, scale_factor=1.4, min_neighbors=5)\n"
   ]
  }
 ],
 "metadata": {
  "kernelspec": {
   "display_name": "base",
   "language": "python",
   "name": "python3"
  },
  "language_info": {
   "codemirror_mode": {
    "name": "ipython",
    "version": 3
   },
   "file_extension": ".py",
   "mimetype": "text/x-python",
   "name": "python",
   "nbconvert_exporter": "python",
   "pygments_lexer": "ipython3",
   "version": "3.11.4"
  }
 },
 "nbformat": 4,
 "nbformat_minor": 2
}
