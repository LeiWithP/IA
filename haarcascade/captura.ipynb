{
 "cells": [
  {
   "cell_type": "markdown",
   "metadata": {},
   "source": [
    "### Librerias"
   ]
  },
  {
   "cell_type": "code",
   "execution_count": null,
   "metadata": {},
   "outputs": [],
   "source": [
    "import cv2\n",
    "import os\n",
    "import numpy as np"
   ]
  },
  {
   "cell_type": "markdown",
   "metadata": {},
   "source": [
    "### Funcion Guardar Fotos de un Video"
   ]
  },
  {
   "cell_type": "code",
   "execution_count": null,
   "metadata": {},
   "outputs": [],
   "source": [
    "def save_frames_from_video(video_path, output_folder, frame_size=(100, 100), frame_interval=10):\n",
    "    os.makedirs(output_folder, exist_ok=True)\n",
    "\n",
    "    cap = cv2.VideoCapture(video_path)\n",
    "    frame_count = 0\n",
    "\n",
    "    while True:\n",
    "        ret, frame = cap.read()\n",
    "\n",
    "        if not ret:\n",
    "            break\n",
    "\n",
    "        resized_frame = cv2.resize(frame, frame_size)\n",
    "\n",
    "        frame_filename = f\"frame_{frame_count:04d}.jpg\"\n",
    "        frame_path = os.path.join(output_folder, frame_filename)\n",
    "        cv2.imwrite(frame_path, resized_frame)\n",
    "\n",
    "        frame_count += 1\n",
    "\n",
    "        # Intervalo\n",
    "        for _ in range(frame_interval):\n",
    "            ret, _ = cap.read()\n",
    "            if not ret:\n",
    "                break\n",
    "\n",
    "    print(f\"{frame_count} fotos guardadas en {output_folder}\")\n",
    "    cap.release()\n"
   ]
  },
  {
   "cell_type": "markdown",
   "metadata": {},
   "source": [
    "### Funcion Para Aplicar el Haarcascade"
   ]
  },
  {
   "cell_type": "code",
   "execution_count": null,
   "metadata": {},
   "outputs": [],
   "source": [
    "def buscando_a_nemo(video_path, cascade_path, scale_factor=1.1, min_neighbors=5):\n",
    "    clasificador = cv2.CascadeClassifier(cascade_path)\n",
    "\n",
    "    cap = cv2.VideoCapture(video_path)\n",
    "\n",
    "    while True:\n",
    "        ret, frame = cap.read()\n",
    "\n",
    "        if not ret:\n",
    "            break\n",
    "\n",
    "        gray = cv2.cvtColor(frame, cv2.COLOR_BGR2GRAY)\n",
    "\n",
    "        # Detect objects in the frame\n",
    "        objects = clasificador.detectMultiScale(gray, scaleFactor=scale_factor, minNeighbors=min_neighbors)\n",
    "\n",
    "        # Draw rectangles around the detected objects\n",
    "        for (x, y, w, h) in objects:\n",
    "            cv2.rectangle(frame, (x, y), (x+w, y+h), (0, 255, 0), 2)\n",
    "\n",
    "        cv2.imshow('deteccion', frame)\n",
    "\n",
    "        if cv2.waitKey(1) & 0xFF == ord('q'):\n",
    "            break\n",
    "\n",
    "    cap.release()\n",
    "    cv2.destroyAllWindows()"
   ]
  },
  {
   "cell_type": "markdown",
   "metadata": {},
   "source": [
    "### Obtener Imagenes Negativas"
   ]
  },
  {
   "cell_type": "code",
   "execution_count": null,
   "metadata": {},
   "outputs": [],
   "source": [
    "nfolder = './faces/n'\n",
    "nvideo = './negative.mp4'\n",
    "\n",
    "if not os.path.exists(nfolder):\n",
    "    os.makedirs(nfolder)\n",
    "    print(f\"Folder '{nfolder}' creado\")\n",
    "\n",
    "save_frames_from_video(nvideo, nfolder, frame_size=(46, 46), frame_interval=5)"
   ]
  },
  {
   "cell_type": "markdown",
   "metadata": {},
   "source": [
    "### Obtener Imagenes Positivas"
   ]
  },
  {
   "cell_type": "code",
   "execution_count": null,
   "metadata": {},
   "outputs": [],
   "source": [
    "pfolder = './faces/p'\n",
    "pvideo = './positive.mp4'\n",
    "\n",
    "if not os.path.exists(pfolder):\n",
    "    os.makedirs(pfolder)\n",
    "    print(f\"Folder '{pfolder}' creado\")\n",
    "\n",
    "save_frames_from_video(pvideo, pfolder, frame_size=(46, 46), frame_interval=5)"
   ]
  },
  {
   "cell_type": "markdown",
   "metadata": {},
   "source": [
    "### Generar Haarcasacde"
   ]
  },
  {
   "cell_type": "code",
   "execution_count": null,
   "metadata": {},
   "outputs": [],
   "source": [
    "dataset = './faces'\n",
    "dirlist = os.listdir(dataset)\n",
    "print(\"Archivos: \", dirlist)\n",
    "\n",
    "labels = []\n",
    "facesData = []\n",
    "label = 0\n",
    "\n",
    "for namedir in dirlist:\n",
    "    dirpath = dataset + \"/\" + namedir\n",
    "    \n",
    "    for  filename in os.listdir(dirpath):\n",
    "        imagepath = dirpath + \"/\" + filename\n",
    "        print(imagepath)\n",
    "        image = cv2.imread(imagepath, 0)\n",
    "        \n",
    "        facesData.append(image)\n",
    "        labels.append(label)\n",
    "    label += 1\n",
    "    \n",
    "# print(\"Tag 0: \", np.count_nonzero(np.array(label) == 0))\n",
    "# print(\"Tag 1: \", np.count_nonzero(np.array(label) == 1))\n",
    "\n",
    "face_mask_train = cv2.face.LBPHFaceRecognizer_create()\n",
    "\n",
    "print(\"Trainning...\")\n",
    "face_mask_train.train(facesData, np.array(labels))\n",
    "\n",
    "face_mask_train.write(\"cubrebocas.xml\")\n",
    "print(\"modelo almacenado\")"
   ]
  },
  {
   "cell_type": "markdown",
   "metadata": {},
   "source": [
    "### Utilizar cascade.xml Generado"
   ]
  },
  {
   "cell_type": "code",
   "execution_count": 7,
   "metadata": {},
   "outputs": [
    {
     "ename": "AttributeError",
     "evalue": "module 'numpy' has no attribute 'solution'",
     "output_type": "error",
     "traceback": [
      "\u001b[1;31m---------------------------------------------------------------------------\u001b[0m",
      "\u001b[1;31mAttributeError\u001b[0m                            Traceback (most recent call last)",
      "\u001b[1;32md:\\DocumentosHDD\\9no_Semestre\\Inteligencia Artificial\\IA\\haarcascade\\captura.ipynb Cell 14\u001b[0m line \u001b[0;36m8\n\u001b[0;32m      <a href='vscode-notebook-cell:/d%3A/DocumentosHDD/9no_Semestre/Inteligencia%20Artificial/IA/haarcascade/captura.ipynb#X16sZmlsZQ%3D%3D?line=3'>4</a>\u001b[0m cascade_path \u001b[39m=\u001b[39m \u001b[39m'\u001b[39m\u001b[39m./face_mask.xml\u001b[39m\u001b[39m'\u001b[39m\n\u001b[0;32m      <a href='vscode-notebook-cell:/d%3A/DocumentosHDD/9no_Semestre/Inteligencia%20Artificial/IA/haarcascade/captura.ipynb#X16sZmlsZQ%3D%3D?line=5'>6</a>\u001b[0m \u001b[39mif\u001b[39;00m os\u001b[39m.\u001b[39mpath\u001b[39m.\u001b[39mexists(cascade_path):\n\u001b[0;32m      <a href='vscode-notebook-cell:/d%3A/DocumentosHDD/9no_Semestre/Inteligencia%20Artificial/IA/haarcascade/captura.ipynb#X16sZmlsZQ%3D%3D?line=6'>7</a>\u001b[0m     \u001b[39m# buscando_a_nemo(search_video, cascade_path, scale_factor=1.5, min_neighbors=6)\u001b[39;00m\n\u001b[1;32m----> <a href='vscode-notebook-cell:/d%3A/DocumentosHDD/9no_Semestre/Inteligencia%20Artificial/IA/haarcascade/captura.ipynb#X16sZmlsZQ%3D%3D?line=7'>8</a>\u001b[0m     np_face_detection \u001b[39m=\u001b[39m np\u001b[39m.\u001b[39;49msolution\u001b[39m.\u001b[39mface_detection\n\u001b[0;32m     <a href='vscode-notebook-cell:/d%3A/DocumentosHDD/9no_Semestre/Inteligencia%20Artificial/IA/haarcascade/captura.ipynb#X16sZmlsZQ%3D%3D?line=9'>10</a>\u001b[0m     LABELS \u001b[39m=\u001b[39m [\u001b[39m\"\u001b[39m\u001b[39mCon_mascarilla\u001b[39m\u001b[39m\"\u001b[39m, \u001b[39m\"\u001b[39m\u001b[39mSin_mascarilla\u001b[39m\u001b[39m\"\u001b[39m]\n\u001b[0;32m     <a href='vscode-notebook-cell:/d%3A/DocumentosHDD/9no_Semestre/Inteligencia%20Artificial/IA/haarcascade/captura.ipynb#X16sZmlsZQ%3D%3D?line=11'>12</a>\u001b[0m     face_mask \u001b[39m=\u001b[39m cv2\u001b[39m.\u001b[39mface\u001b[39m.\u001b[39mLBPHFaceRecognizer_create()\n",
      "File \u001b[1;32md:\\DocumentosHDD\\9no_Semestre\\Inteligencia Artificial\\IA\\venvcv\\lib\\site-packages\\numpy\\__init__.py:361\u001b[0m, in \u001b[0;36m__getattr__\u001b[1;34m(attr)\u001b[0m\n\u001b[0;32m    358\u001b[0m     \u001b[39m\"\u001b[39m\u001b[39mRemoved in NumPy 1.25.0\u001b[39m\u001b[39m\"\u001b[39m\n\u001b[0;32m    359\u001b[0m     \u001b[39mraise\u001b[39;00m \u001b[39mRuntimeError\u001b[39;00m(\u001b[39m\"\u001b[39m\u001b[39mTester was removed in NumPy 1.25.\u001b[39m\u001b[39m\"\u001b[39m)\n\u001b[1;32m--> 361\u001b[0m \u001b[39mraise\u001b[39;00m \u001b[39mAttributeError\u001b[39;00m(\u001b[39m\"\u001b[39m\u001b[39mmodule \u001b[39m\u001b[39m{!r}\u001b[39;00m\u001b[39m has no attribute \u001b[39m\u001b[39m\"\u001b[39m\n\u001b[0;32m    362\u001b[0m                      \u001b[39m\"\u001b[39m\u001b[39m{!r}\u001b[39;00m\u001b[39m\"\u001b[39m\u001b[39m.\u001b[39mformat(\u001b[39m__name__\u001b[39m, attr))\n",
      "\u001b[1;31mAttributeError\u001b[0m: module 'numpy' has no attribute 'solution'"
     ]
    }
   ],
   "source": [
    "test_video = 'test.mp4'\n",
    "# cascade_path = './classifier/cascade.xml'\n",
    "# cascade_path = './haarcascade_frontalface_alt.xml'\n",
    "cascade_path = './face_mask.xml'\n",
    "\n",
    "if os.path.exists(cascade_path):\n",
    "    # buscando_a_nemo(search_video, cascade_path, scale_factor=1.5, min_neighbors=6)\n",
    "    mp_face_detection = mp.solution.face_detection\n",
    "    \n",
    "    LABELS = [\"Con_mascarilla\", \"Sin_mascarilla\"]\n",
    "    \n",
    "    face_mask = cv2.face.LBPHFaceRecognizer_create()\n",
    "    face_mask.read(cascade_path)\n",
    "    \n",
    "    cap = cv2.VideoCapture(test_video)\n",
    "    \n",
    "    with mp_face_detection.FaceDetection(min_detection_confidence=0.5) as face_detection:\n",
    "        \n",
    "        while True:\n",
    "            ret, frame = cap.read()\n",
    "            if ret == False: break\n",
    "            \n",
    "            cv2.imshow(\"Frame\", frame)\n",
    "            k = cv2.waitKey(1)\n",
    "            if k == 27:\n",
    "                break\n",
    "            \n",
    "    cap.release()\n",
    "    cv2.destroyAllWindows()\n"
   ]
  }
 ],
 "metadata": {
  "kernelspec": {
   "display_name": "base",
   "language": "python",
   "name": "python3"
  },
  "language_info": {
   "codemirror_mode": {
    "name": "ipython",
    "version": 3
   },
   "file_extension": ".py",
   "mimetype": "text/x-python",
   "name": "python",
   "nbconvert_exporter": "python",
   "pygments_lexer": "ipython3",
   "version": "3.9.13"
  }
 },
 "nbformat": 4,
 "nbformat_minor": 2
}
