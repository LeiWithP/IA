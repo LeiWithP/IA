{
 "cells": [
  {
   "cell_type": "markdown",
   "metadata": {},
   "source": [
    "### Librerias"
   ]
  },
  {
   "cell_type": "code",
   "execution_count": 1,
   "metadata": {},
   "outputs": [],
   "source": [
    "import cv2\n",
    "import os\n",
    "import numpy as np\n",
    "import mediapipe as mp"
   ]
  },
  {
   "cell_type": "markdown",
   "metadata": {},
   "source": [
    "### Funcion Guardar Fotos de un Video"
   ]
  },
  {
   "cell_type": "code",
   "execution_count": 2,
   "metadata": {},
   "outputs": [],
   "source": [
    "import os\n",
    "import cv2\n",
    "\n",
    "def save_frames_from_video(video_path, output_folder, frame_size=(100, 100), frame_interval=10):\n",
    "    os.makedirs(output_folder, exist_ok=True)\n",
    "\n",
    "    cap = cv2.VideoCapture(video_path)\n",
    "    frame_count = 0\n",
    "\n",
    "    while True:\n",
    "        ret, frame = cap.read()\n",
    "\n",
    "        if not ret:\n",
    "            break\n",
    "\n",
    "        # Convert frame to grayscale\n",
    "        gray_frame = cv2.cvtColor(frame, cv2.COLOR_BGR2GRAY)\n",
    "\n",
    "        # Resize the frame\n",
    "        resized_frame = cv2.resize(gray_frame, frame_size)\n",
    "\n",
    "        frame_filename = f\"frame_{frame_count:04d}.jpg\"\n",
    "        frame_path = os.path.join(output_folder, frame_filename)\n",
    "\n",
    "        # Save the grayscale frame\n",
    "        cv2.imwrite(frame_path, resized_frame)\n",
    "\n",
    "        frame_count += 1\n",
    "\n",
    "        # Skip 'frame_interval' number of frames\n",
    "        for _ in range(frame_interval):\n",
    "            ret, _ = cap.read()\n",
    "            if not ret:\n",
    "                break\n",
    "\n",
    "    print(f\"{frame_count} fotos guardadas en {output_folder}\")\n",
    "    cap.release()\n",
    "\n",
    "# Example usage:\n",
    "# save_frames_from_video('path/to/video.mp4', 'path/to/output/folder')\n"
   ]
  },
  {
   "cell_type": "markdown",
   "metadata": {},
   "source": [
    "### Funcion Para Aplicar el Haarcascade V1"
   ]
  },
  {
   "cell_type": "code",
   "execution_count": 3,
   "metadata": {},
   "outputs": [],
   "source": [
    "def buscando_a_nemo(video_path, cascade_path, scale_factor=1.1, min_neighbors=5, min_size=32):\n",
    "    clasificador = cv2.CascadeClassifier(cascade_path)\n",
    "\n",
    "    cap = cv2.VideoCapture(video_path)\n",
    "\n",
    "    while True:\n",
    "        ret, frame = cap.read()\n",
    "\n",
    "        if not ret:\n",
    "            break\n",
    "\n",
    "        gray = cv2.cvtColor(frame, cv2.COLOR_BGR2GRAY)\n",
    "\n",
    "        # Detect objects in the frame\n",
    "        objects = clasificador.detectMultiScale(gray, scaleFactor=scale_factor, minNeighbors=min_neighbors, minSize=(min_size, min_size))\n",
    "\n",
    "        # Draw rectangles around the detected objects\n",
    "        for (x, y, w, h) in objects:\n",
    "            cv2.rectangle(frame, (x, y), (x+w, y+h), (0, 255, 0), 2)\n",
    "\n",
    "        cv2.imshow('deteccion', frame)\n",
    "\n",
    "        if cv2.waitKey(1) & 0xFF == ord('q'):\n",
    "            break\n",
    "\n",
    "    cap.release()\n",
    "    cv2.destroyAllWindows()"
   ]
  },
  {
   "cell_type": "markdown",
   "metadata": {},
   "source": [
    "### Funcion Para Aplicar el Haarcascade V2"
   ]
  },
  {
   "cell_type": "code",
   "execution_count": 4,
   "metadata": {},
   "outputs": [],
   "source": [
    "def buscando_a_dori(video_path, cascade_path):\n",
    "    mp_face_detection = mp.solutions.face_detection\n",
    "    \n",
    "    LABELS = [\"Con_mascarilla\", \"Sin_mascarilla\"]\n",
    "    \n",
    "    face_mask = cv2.face.LBPHFaceRecognizer_create()\n",
    "    face_mask.read(cascade_path)\n",
    "    \n",
    "    # cap = cv2.VideoCapture(0, cv2.CAP_DSHOW)\n",
    "    cap = cv2.VideoCapture(video_path)\n",
    "    \n",
    "    with mp_face_detection.FaceDetection(min_detection_confidence=0.5) as face_detection:\n",
    "        \n",
    "        while True:\n",
    "            ret, frame = cap.read()\n",
    "            if ret == False: break\n",
    "            \n",
    "            height, width, _ = frame.shape\n",
    "            frame_rgb = cv2.cvtColor(frame, cv2.COLOR_BGR2RGB)\n",
    "            results = face_detection.process(frame_rgb)\n",
    "            \n",
    "            if results.detections is not None:\n",
    "                for detection in results.detections:\n",
    "                    xmin = int(detection.location_data.relative_bounding_box.xmin * width)\n",
    "                    ymin = int(detection.location_data.relative_bounding_box.ymin * height)\n",
    "                    w = int(detection.location_data.relative_bounding_box.width * width)\n",
    "                    h = int(detection.location_data.relative_bounding_box.height * height)\n",
    "                    if xmin < 0 and ymin < 0:\n",
    "                        continue\n",
    "                    \n",
    "                    # cv2.rectangle(frame, (xmin, ymin), (xmin + w, ymin + h), (0, 255, 0), 5)\n",
    "                    \n",
    "                    face_image = frame[ymin : ymin + h, xmin: xmin + w]\n",
    "                    face_image = cv2.cvtColor(face_image, cv2.COLOR_BGR2GRAY)\n",
    "                    face_image = cv2.resize(face_image, (72, 72), interpolation=cv2.INTER_CUBIC)\n",
    "                    \n",
    "                    result = face_mask.predict(face_image)\n",
    "                    # cv2.putText(frame, \"{}\".format(result), (xmin, ymin - 5), 1, 1.3, (218, 124, 176), 1, cv2.LINE_AA)\n",
    "                    \n",
    "                    if result[1] < 150:\n",
    "                        color = (0, 255, 0) if LABELS[result[0]] == \"Con_mascarilla\" else (0, 0, 255)\n",
    "                        cv2.putText(frame, \"{}\".format(LABELS[result[0]]), (xmin, ymin - 25), 2, 1, color, 1, cv2.LINE_AA)\n",
    "                        cv2.rectangle(frame, (xmin, ymin), (xmin + w, ymin + h), color, 2)\n",
    "            \n",
    "            cv2.imshow(\"Frame\", frame)\n",
    "            k = cv2.waitKey(1)\n",
    "            if k == 27:\n",
    "                break\n",
    "            \n",
    "    cap.release()\n",
    "    cv2.destroyAllWindows()\n"
   ]
  },
  {
   "cell_type": "markdown",
   "metadata": {},
   "source": [
    "### Obtener Imagenes Negativas"
   ]
  },
  {
   "cell_type": "code",
   "execution_count": 19,
   "metadata": {},
   "outputs": [
    {
     "name": "stdout",
     "output_type": "stream",
     "text": [
      "Folder './n' creado\n",
      "87 fotos guardadas en ./n\n"
     ]
    }
   ],
   "source": [
    "nfolder = './n'\n",
    "# nfolder = './faces/Sin_mascarilla'\n",
    "nvideo = './old_negative.mp4'\n",
    "\n",
    "if not os.path.exists(nfolder):\n",
    "    os.makedirs(nfolder)\n",
    "    print(f\"Folder '{nfolder}' creado\")\n",
    "\n",
    "save_frames_from_video(nvideo, nfolder, frame_size=(64, 64), frame_interval=20)"
   ]
  },
  {
   "cell_type": "markdown",
   "metadata": {},
   "source": [
    "### Obtener Imagenes Positivas"
   ]
  },
  {
   "cell_type": "code",
   "execution_count": 20,
   "metadata": {},
   "outputs": [
    {
     "name": "stdout",
     "output_type": "stream",
     "text": [
      "Folder './p' creado\n",
      "70 fotos guardadas en ./p\n"
     ]
    }
   ],
   "source": [
    "pfolder = './p'\n",
    "# nfolder = './faces/Con_mascarilla'\n",
    "pvideo = './old_positive.mp4'\n",
    "\n",
    "if not os.path.exists(pfolder):\n",
    "    os.makedirs(pfolder)\n",
    "    print(f\"Folder '{pfolder}' creado\")\n",
    "\n",
    "save_frames_from_video(pvideo, pfolder, frame_size=(64, 64), frame_interval=25)"
   ]
  },
  {
   "cell_type": "markdown",
   "metadata": {},
   "source": [
    "### Generar Haarcasacde"
   ]
  },
  {
   "cell_type": "code",
   "execution_count": null,
   "metadata": {},
   "outputs": [],
   "source": [
    "# dataset = './faces'\n",
    "# dirlist = os.listdir(dataset)\n",
    "# print(\"Archivos: \", dirlist)\n",
    "\n",
    "# labels = []\n",
    "# facesData = []\n",
    "# label = 0\n",
    "\n",
    "# for namedir in dirlist:\n",
    "#     dirpath = dataset + \"/\" + namedir\n",
    "    \n",
    "#     for  filename in os.listdir(dirpath):\n",
    "#         imagepath = dirpath + \"/\" + filename\n",
    "#         print(imagepath)\n",
    "#         image = cv2.imread(imagepath, 0)\n",
    "        \n",
    "#         facesData.append(image)\n",
    "#         labels.append(label)\n",
    "#     label += 1\n",
    "    \n",
    "# # print(\"Tag 0: \", np.count_nonzero(np.array(label) == 0))\n",
    "# # print(\"Tag 1: \", np.count_nonzero(np.array(label) == 1))\n",
    "\n",
    "# face_mask_train = cv2.face.LBPHFaceRecognizer_create()\n",
    "\n",
    "# print(\"Trainning...\")\n",
    "# face_mask_train.train(facesData, np.array(labels))\n",
    "\n",
    "# face_mask_train.write(\"cubrebocas.xml\")\n",
    "# print(\"modelo almacenado\")"
   ]
  },
  {
   "cell_type": "code",
   "execution_count": 26,
   "metadata": {},
   "outputs": [],
   "source": [
    "from PIL import Image\n",
    "import os\n",
    "\n",
    "def resize_images_in_folder(source_folder, target_size, output_folder):\n",
    "    \"\"\"\n",
    "    Resizes all images in the specified folder to the target size and saves them to the output folder.\n",
    "\n",
    "    :param source_folder: Path to the folder containing the images to be resized.\n",
    "    :param target_size: A tuple (width, height) representing the new size of the images.\n",
    "    :param output_folder: Path to the folder where resized images will be saved.\n",
    "    \"\"\"\n",
    "    if not os.path.exists(output_folder):\n",
    "        os.makedirs(output_folder)\n",
    "\n",
    "    for filename in os.listdir(source_folder):\n",
    "        if filename.lower().endswith(('.png', '.jpg', '.jpeg', '.gif', '.bmp')):\n",
    "            img_path = os.path.join(source_folder, filename)\n",
    "            img = Image.open(img_path)\n",
    "            img = img.resize(target_size)\n",
    "            img.save(os.path.join(output_folder, filename))\n"
   ]
  },
  {
   "cell_type": "code",
   "execution_count": 4,
   "metadata": {},
   "outputs": [
    {
     "name": "stdout",
     "output_type": "stream",
     "text": [
      "There are 260 files in the folder './p'.\n"
     ]
    }
   ],
   "source": [
    "def count_files_in_folder(folder_path):\n",
    "    try:\n",
    "        files = os.listdir(folder_path)\n",
    "\n",
    "        # Count the number of files\n",
    "        file_count = len(files)\n",
    "\n",
    "        return file_count\n",
    "\n",
    "    except FileNotFoundError:\n",
    "        print(f\"Error: Folder '{folder_path}' not found.\")\n",
    "        return 0\n",
    "\n",
    "folder_path = './p'\n",
    "files_count = count_files_in_folder(folder_path)\n",
    "\n",
    "print(f\"There are {files_count} files in the folder '{folder_path}'.\")\n"
   ]
  },
  {
   "cell_type": "code",
   "execution_count": 28,
   "metadata": {},
   "outputs": [],
   "source": [
    "resize_images_in_folder('../haarcascade/n72', (40, 40), '../haarcascade/n')\n",
    "resize_images_in_folder('../haarcascade/p72', (40, 40), '../haarcascade/p')"
   ]
  },
  {
   "cell_type": "markdown",
   "metadata": {},
   "source": [
    "### Utilizar cascade.xml Generado"
   ]
  },
  {
   "cell_type": "code",
   "execution_count": 29,
   "metadata": {},
   "outputs": [],
   "source": [
    "test_video = 'test.mp4'\n",
    "# cascade_path = './classifier/cascade.xml'\n",
    "# cascade_path = './haarcascade_frontalface_alt.xml'\n",
    "cascade_path = '../CascadeModels/cascade.xml'\n",
    "\n",
    "if os.path.exists(cascade_path):\n",
    "    buscando_a_nemo(test_video, cascade_path, scale_factor=10, min_neighbors=1000, min_size=200)\n",
    "    # buscando_a_dori(test_video, cascade_path)"
   ]
  }
 ],
 "metadata": {
  "kernelspec": {
   "display_name": "base",
   "language": "python",
   "name": "python3"
  },
  "language_info": {
   "codemirror_mode": {
    "name": "ipython",
    "version": 3
   },
   "file_extension": ".py",
   "mimetype": "text/x-python",
   "name": "python",
   "nbconvert_exporter": "python",
   "pygments_lexer": "ipython3",
   "version": "3.9.13"
  }
 },
 "nbformat": 4,
 "nbformat_minor": 2
}
